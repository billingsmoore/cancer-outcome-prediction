{
 "cells": [
  {
   "attachments": {},
   "cell_type": "markdown",
   "metadata": {},
   "source": [
    "# Breast Cancer Patient Outcomes\n",
    "\n",
    "The purpose of this project is to investigate using supervised machine learning methods to predict patient outcomes in breast cancer cases. I begin by loading in the dataset. This dataset was uploaded to Kaggle by Kreesh Rajani and can be found here: \n",
    "https://www.kaggle.com/datasets/kreeshrajani/breast-cancer-survival-dataset"
   ]
  },
  {
   "attachments": {},
   "cell_type": "markdown",
   "metadata": {},
   "source": [
    "## Exploring the Data\n",
    "Looking at the dataframe head below, we can see that we have 14 possible predictors for our 1 outcome variable, Patient_Status. Patient_Status is a binary variable, bluntly given as (Alive/Dead), which gives us the patient outcome."
   ]
  },
  {
   "cell_type": "code",
   "execution_count": 82,
   "metadata": {},
   "outputs": [
    {
     "data": {
      "text/html": [
       "<div>\n",
       "<style scoped>\n",
       "    .dataframe tbody tr th:only-of-type {\n",
       "        vertical-align: middle;\n",
       "    }\n",
       "\n",
       "    .dataframe tbody tr th {\n",
       "        vertical-align: top;\n",
       "    }\n",
       "\n",
       "    .dataframe thead th {\n",
       "        text-align: right;\n",
       "    }\n",
       "</style>\n",
       "<table border=\"1\" class=\"dataframe\">\n",
       "  <thead>\n",
       "    <tr style=\"text-align: right;\">\n",
       "      <th></th>\n",
       "      <th>Age</th>\n",
       "      <th>Gender</th>\n",
       "      <th>Protein1</th>\n",
       "      <th>Protein2</th>\n",
       "      <th>Protein3</th>\n",
       "      <th>Protein4</th>\n",
       "      <th>Tumour_Stage</th>\n",
       "      <th>Histology</th>\n",
       "      <th>ER status</th>\n",
       "      <th>PR status</th>\n",
       "      <th>HER2 status</th>\n",
       "      <th>Surgery_type</th>\n",
       "      <th>Date_of_Surgery</th>\n",
       "      <th>Date_of_Last_Visit</th>\n",
       "      <th>Patient_Status</th>\n",
       "    </tr>\n",
       "  </thead>\n",
       "  <tbody>\n",
       "    <tr>\n",
       "      <th>0</th>\n",
       "      <td>42</td>\n",
       "      <td>FEMALE</td>\n",
       "      <td>0.95256</td>\n",
       "      <td>2.15000</td>\n",
       "      <td>0.007972</td>\n",
       "      <td>-0.048340</td>\n",
       "      <td>II</td>\n",
       "      <td>Infiltrating Ductal Carcinoma</td>\n",
       "      <td>Positive</td>\n",
       "      <td>Positive</td>\n",
       "      <td>Negative</td>\n",
       "      <td>Other</td>\n",
       "      <td>20-May-18</td>\n",
       "      <td>26-Aug-18</td>\n",
       "      <td>Alive</td>\n",
       "    </tr>\n",
       "    <tr>\n",
       "      <th>1</th>\n",
       "      <td>54</td>\n",
       "      <td>FEMALE</td>\n",
       "      <td>0.00000</td>\n",
       "      <td>1.38020</td>\n",
       "      <td>-0.498030</td>\n",
       "      <td>-0.507320</td>\n",
       "      <td>II</td>\n",
       "      <td>Infiltrating Ductal Carcinoma</td>\n",
       "      <td>Positive</td>\n",
       "      <td>Positive</td>\n",
       "      <td>Negative</td>\n",
       "      <td>Other</td>\n",
       "      <td>26-Apr-18</td>\n",
       "      <td>25-Jan-19</td>\n",
       "      <td>Dead</td>\n",
       "    </tr>\n",
       "    <tr>\n",
       "      <th>2</th>\n",
       "      <td>63</td>\n",
       "      <td>FEMALE</td>\n",
       "      <td>-0.52303</td>\n",
       "      <td>1.76400</td>\n",
       "      <td>-0.370190</td>\n",
       "      <td>0.010815</td>\n",
       "      <td>II</td>\n",
       "      <td>Infiltrating Ductal Carcinoma</td>\n",
       "      <td>Positive</td>\n",
       "      <td>Positive</td>\n",
       "      <td>Negative</td>\n",
       "      <td>Lumpectomy</td>\n",
       "      <td>24-Aug-18</td>\n",
       "      <td>08-Apr-20</td>\n",
       "      <td>Alive</td>\n",
       "    </tr>\n",
       "    <tr>\n",
       "      <th>3</th>\n",
       "      <td>78</td>\n",
       "      <td>FEMALE</td>\n",
       "      <td>-0.87618</td>\n",
       "      <td>0.12943</td>\n",
       "      <td>-0.370380</td>\n",
       "      <td>0.132190</td>\n",
       "      <td>I</td>\n",
       "      <td>Infiltrating Ductal Carcinoma</td>\n",
       "      <td>Positive</td>\n",
       "      <td>Positive</td>\n",
       "      <td>Negative</td>\n",
       "      <td>Other</td>\n",
       "      <td>16-Nov-18</td>\n",
       "      <td>28-Jul-20</td>\n",
       "      <td>Alive</td>\n",
       "    </tr>\n",
       "    <tr>\n",
       "      <th>4</th>\n",
       "      <td>42</td>\n",
       "      <td>FEMALE</td>\n",
       "      <td>0.22611</td>\n",
       "      <td>1.74910</td>\n",
       "      <td>-0.543970</td>\n",
       "      <td>-0.390210</td>\n",
       "      <td>II</td>\n",
       "      <td>Infiltrating Ductal Carcinoma</td>\n",
       "      <td>Positive</td>\n",
       "      <td>Positive</td>\n",
       "      <td>Positive</td>\n",
       "      <td>Lumpectomy</td>\n",
       "      <td>12-Dec-18</td>\n",
       "      <td>05-Jan-19</td>\n",
       "      <td>Alive</td>\n",
       "    </tr>\n",
       "  </tbody>\n",
       "</table>\n",
       "</div>"
      ],
      "text/plain": [
       "   Age  Gender  Protein1  Protein2  Protein3  Protein4 Tumour_Stage  \\\n",
       "0   42  FEMALE   0.95256   2.15000  0.007972 -0.048340           II   \n",
       "1   54  FEMALE   0.00000   1.38020 -0.498030 -0.507320           II   \n",
       "2   63  FEMALE  -0.52303   1.76400 -0.370190  0.010815           II   \n",
       "3   78  FEMALE  -0.87618   0.12943 -0.370380  0.132190            I   \n",
       "4   42  FEMALE   0.22611   1.74910 -0.543970 -0.390210           II   \n",
       "\n",
       "                       Histology ER status PR status HER2 status Surgery_type  \\\n",
       "0  Infiltrating Ductal Carcinoma  Positive  Positive    Negative        Other   \n",
       "1  Infiltrating Ductal Carcinoma  Positive  Positive    Negative        Other   \n",
       "2  Infiltrating Ductal Carcinoma  Positive  Positive    Negative   Lumpectomy   \n",
       "3  Infiltrating Ductal Carcinoma  Positive  Positive    Negative        Other   \n",
       "4  Infiltrating Ductal Carcinoma  Positive  Positive    Positive   Lumpectomy   \n",
       "\n",
       "  Date_of_Surgery Date_of_Last_Visit Patient_Status  \n",
       "0       20-May-18          26-Aug-18          Alive  \n",
       "1       26-Apr-18          25-Jan-19           Dead  \n",
       "2       24-Aug-18          08-Apr-20          Alive  \n",
       "3       16-Nov-18          28-Jul-20          Alive  \n",
       "4       12-Dec-18          05-Jan-19          Alive  "
      ]
     },
     "execution_count": 82,
     "metadata": {},
     "output_type": "execute_result"
    }
   ],
   "source": [
    "import pandas as pd\n",
    "import numpy as np\n",
    "\n",
    "df = pd.read_csv('breast_cancer_survival.csv')\n",
    "df.head()"
   ]
  },
  {
   "attachments": {},
   "cell_type": "markdown",
   "metadata": {},
   "source": [
    "Below we can see a summary of the numerical data. We have 334 total rows, there are only NA values in two columns: Date_of_Last_Visit and Patient_Status. "
   ]
  },
  {
   "cell_type": "code",
   "execution_count": 83,
   "metadata": {},
   "outputs": [
    {
     "name": "stdout",
     "output_type": "stream",
     "text": [
      "              Age    Protein1    Protein2    Protein3    Protein4\n",
      "count  334.000000  334.000000  334.000000  334.000000  334.000000\n",
      "mean    58.886228   -0.029991    0.946896   -0.090204    0.009819\n",
      "std     12.961212    0.563588    0.911637    0.585175    0.629055\n",
      "min     29.000000   -2.340900   -0.978730   -1.627400   -2.025500\n",
      "25%     49.000000   -0.358888    0.362173   -0.513748   -0.377090\n",
      "50%     58.000000    0.006129    0.992805   -0.173180    0.041768\n",
      "75%     68.000000    0.343598    1.627900    0.278353    0.425630\n",
      "max     90.000000    1.593600    3.402200    2.193400    1.629900\n",
      "\n",
      "NA counts:\n",
      "Age                    0\n",
      "Gender                 0\n",
      "Protein1               0\n",
      "Protein2               0\n",
      "Protein3               0\n",
      "Protein4               0\n",
      "Tumour_Stage           0\n",
      "Histology              0\n",
      "ER status              0\n",
      "PR status              0\n",
      "HER2 status            0\n",
      "Surgery_type           0\n",
      "Date_of_Surgery        0\n",
      "Date_of_Last_Visit    17\n",
      "Patient_Status        13\n",
      "dtype: int64\n"
     ]
    }
   ],
   "source": [
    "print(df.describe())\n",
    "\n",
    "print('\\nNA counts:')\n",
    "print(df.isna().sum())"
   ]
  },
  {
   "attachments": {},
   "cell_type": "markdown",
   "metadata": {},
   "source": [
    "### Cleaning the Data\n",
    "\n",
    "The NA values for Patient_Status are especially problematic but there are not very many of them, so we will drop the NA value rows. We can see below that we end up with 317 rows so we have only lost about $5\\%$ of our data."
   ]
  },
  {
   "cell_type": "code",
   "execution_count": 84,
   "metadata": {},
   "outputs": [
    {
     "name": "stdout",
     "output_type": "stream",
     "text": [
      "              Age    Protein1    Protein2    Protein3    Protein4\n",
      "count  317.000000  317.000000  317.000000  317.000000  317.000000\n",
      "mean    58.725552   -0.027232    0.949557   -0.095104    0.006713\n",
      "std     12.827374    0.543858    0.906153    0.589027    0.625965\n",
      "min     29.000000   -2.144600   -0.978730   -1.627400   -2.025500\n",
      "25%     49.000000   -0.350600    0.368840   -0.531360   -0.382240\n",
      "50%     58.000000    0.005649    0.997130   -0.193040    0.038522\n",
      "75%     67.000000    0.336260    1.612000    0.251210    0.436250\n",
      "max     90.000000    1.593600    3.402200    2.193400    1.629900\n"
     ]
    }
   ],
   "source": [
    "df = df.dropna()\n",
    "print(df.describe())"
   ]
  },
  {
   "attachments": {},
   "cell_type": "markdown",
   "metadata": {},
   "source": [
    "A few columns have spaces in their column names which could cause some syntax problems later on so I will rename those to remove the space. They all end in the word 'status' so I will drop that as well. Once that is done, we turn our attention to our non-numeric data. \n",
    "\n",
    "In the Gender column, I will map 'FEMALE' to 0 and 'MALE' to 1. For ER, PR, and HER2 I will map 'Negative' to 0 and 'Positive' to 1. For the Tumour_Stage variable, I will map each roman numeral to its corresponding integer. The 'Histology' column has three possible values: 'Infiltrating Ductal Carcinoma', 'Infiltrating Lobular Carcinoma', and 'Mucinous Carcinoma' which I will map to 0, 1, and 2 respectively. The 'Surgery_type' columns has the following values: 'Other', 'Lumpectomy', 'Modified Radical Mastectomy', and 'Simple Mastectomy' which I will map to 0, 1, 2, and 3 respectively.\n",
    "\n",
    "Under the assumption that particular surgery dates or particular appointment dates have no meaningful impact (i.e. meeting with one's doctor on a Tuesday does not increase one's chances of survival), but may introduce additional noise, we will drop these columns. It is entirely possible that this assumption is mistaken and for an applied study a domain expert should be consulted.\n",
    "\n",
    "Finally, our target variable 'Patient_Status' has two values: 'Dead' and 'Alive' which I will map to 0, and 1 respectively.\n",
    "\n",
    "Our final dimensions then are 317 rows with 12 predictors for our target variable.\n",
    "\n",
    "Our new, clean dataframe looks like this:"
   ]
  },
  {
   "cell_type": "code",
   "execution_count": 85,
   "metadata": {},
   "outputs": [
    {
     "data": {
      "text/html": [
       "<div>\n",
       "<style scoped>\n",
       "    .dataframe tbody tr th:only-of-type {\n",
       "        vertical-align: middle;\n",
       "    }\n",
       "\n",
       "    .dataframe tbody tr th {\n",
       "        vertical-align: top;\n",
       "    }\n",
       "\n",
       "    .dataframe thead th {\n",
       "        text-align: right;\n",
       "    }\n",
       "</style>\n",
       "<table border=\"1\" class=\"dataframe\">\n",
       "  <thead>\n",
       "    <tr style=\"text-align: right;\">\n",
       "      <th></th>\n",
       "      <th>Age</th>\n",
       "      <th>Gender</th>\n",
       "      <th>Protein1</th>\n",
       "      <th>Protein2</th>\n",
       "      <th>Protein3</th>\n",
       "      <th>Protein4</th>\n",
       "      <th>Tumour_Stage</th>\n",
       "      <th>Histology</th>\n",
       "      <th>ER</th>\n",
       "      <th>PR</th>\n",
       "      <th>HER2</th>\n",
       "      <th>Surgery_type</th>\n",
       "      <th>Patient_Status</th>\n",
       "    </tr>\n",
       "  </thead>\n",
       "  <tbody>\n",
       "    <tr>\n",
       "      <th>0</th>\n",
       "      <td>42</td>\n",
       "      <td>0</td>\n",
       "      <td>0.95256</td>\n",
       "      <td>2.15000</td>\n",
       "      <td>0.007972</td>\n",
       "      <td>-0.048340</td>\n",
       "      <td>2</td>\n",
       "      <td>0</td>\n",
       "      <td>1</td>\n",
       "      <td>1</td>\n",
       "      <td>0</td>\n",
       "      <td>0</td>\n",
       "      <td>1</td>\n",
       "    </tr>\n",
       "    <tr>\n",
       "      <th>1</th>\n",
       "      <td>54</td>\n",
       "      <td>0</td>\n",
       "      <td>0.00000</td>\n",
       "      <td>1.38020</td>\n",
       "      <td>-0.498030</td>\n",
       "      <td>-0.507320</td>\n",
       "      <td>2</td>\n",
       "      <td>0</td>\n",
       "      <td>1</td>\n",
       "      <td>1</td>\n",
       "      <td>0</td>\n",
       "      <td>0</td>\n",
       "      <td>0</td>\n",
       "    </tr>\n",
       "    <tr>\n",
       "      <th>2</th>\n",
       "      <td>63</td>\n",
       "      <td>0</td>\n",
       "      <td>-0.52303</td>\n",
       "      <td>1.76400</td>\n",
       "      <td>-0.370190</td>\n",
       "      <td>0.010815</td>\n",
       "      <td>2</td>\n",
       "      <td>0</td>\n",
       "      <td>1</td>\n",
       "      <td>1</td>\n",
       "      <td>0</td>\n",
       "      <td>1</td>\n",
       "      <td>1</td>\n",
       "    </tr>\n",
       "    <tr>\n",
       "      <th>3</th>\n",
       "      <td>78</td>\n",
       "      <td>0</td>\n",
       "      <td>-0.87618</td>\n",
       "      <td>0.12943</td>\n",
       "      <td>-0.370380</td>\n",
       "      <td>0.132190</td>\n",
       "      <td>1</td>\n",
       "      <td>0</td>\n",
       "      <td>1</td>\n",
       "      <td>1</td>\n",
       "      <td>0</td>\n",
       "      <td>0</td>\n",
       "      <td>1</td>\n",
       "    </tr>\n",
       "    <tr>\n",
       "      <th>4</th>\n",
       "      <td>42</td>\n",
       "      <td>0</td>\n",
       "      <td>0.22611</td>\n",
       "      <td>1.74910</td>\n",
       "      <td>-0.543970</td>\n",
       "      <td>-0.390210</td>\n",
       "      <td>2</td>\n",
       "      <td>0</td>\n",
       "      <td>1</td>\n",
       "      <td>1</td>\n",
       "      <td>1</td>\n",
       "      <td>1</td>\n",
       "      <td>1</td>\n",
       "    </tr>\n",
       "  </tbody>\n",
       "</table>\n",
       "</div>"
      ],
      "text/plain": [
       "   Age  Gender  Protein1  Protein2  Protein3  Protein4  Tumour_Stage  \\\n",
       "0   42       0   0.95256   2.15000  0.007972 -0.048340             2   \n",
       "1   54       0   0.00000   1.38020 -0.498030 -0.507320             2   \n",
       "2   63       0  -0.52303   1.76400 -0.370190  0.010815             2   \n",
       "3   78       0  -0.87618   0.12943 -0.370380  0.132190             1   \n",
       "4   42       0   0.22611   1.74910 -0.543970 -0.390210             2   \n",
       "\n",
       "   Histology  ER  PR  HER2  Surgery_type  Patient_Status  \n",
       "0          0   1   1     0             0               1  \n",
       "1          0   1   1     0             0               0  \n",
       "2          0   1   1     0             1               1  \n",
       "3          0   1   1     0             0               1  \n",
       "4          0   1   1     1             1               1  "
      ]
     },
     "execution_count": 85,
     "metadata": {},
     "output_type": "execute_result"
    }
   ],
   "source": [
    "df = df.rename(columns={'ER status': 'ER', 'PR status': 'PR', 'HER2 status': 'HER2'})\n",
    "\n",
    "df['Gender'] = df['Gender'].map({'FEMALE' : 0, 'MALE' : 1})\n",
    "\n",
    "df['ER'] = df['ER'].map({'Negative' : 0, 'Positive' : 1})\n",
    "\n",
    "df['PR'] = df['PR'].map({'Negative' : 0, 'Positive' : 1})\n",
    "\n",
    "df['HER2'] = df['HER2'].map({'Negative' : 0, 'Positive' : 1})\n",
    "\n",
    "df['Tumour_Stage'] = df['Tumour_Stage'].map({'I' : 1, 'II' : 2, 'III': 3, 'IV': 4})\n",
    "\n",
    "df['Histology'] = df['Histology'].map({'Infiltrating Ductal Carcinoma' : 0, 'Infiltrating Lobular Carcinoma' : 1, 'Mucinous Carcinoma' : 2})\n",
    "\n",
    "df['Surgery_type'] = df['Surgery_type'].map({'Other' : 0, 'Lumpectomy' : 1, 'Modified Radical Mastectomy' : 2,'Simple Mastectomy' : 3})\n",
    "\n",
    "df = df.drop(columns=['Date_of_Surgery', 'Date_of_Last_Visit'], axis=1)\n",
    "\n",
    "df['Patient_Status'] = df['Patient_Status'].map({'Dead' : 0, 'Alive' : 1})\n",
    "\n",
    "df.head()"
   ]
  },
  {
   "attachments": {},
   "cell_type": "markdown",
   "metadata": {},
   "source": [
    "### Visualizations\n",
    "\n",
    "Before we move on with our analysis, let's take a look at any possible correlation between variables that might indicate collinearity or other issues in our predictors."
   ]
  },
  {
   "cell_type": "code",
   "execution_count": 86,
   "metadata": {},
   "outputs": [],
   "source": [
    "# TODO"
   ]
  },
  {
   "attachments": {},
   "cell_type": "markdown",
   "metadata": {},
   "source": [
    "## Modeling the Data\n",
    "\n",
    "Now that our data is clean, we can split it for training and testing. I played around a bit with test and training sizes and with this dataset it seems like we get the best results when test size is relatively large. This makes sense, we don't want to be testing on a small sample. Thus, I've set the test size here to 70% of the data. For reproducibility, I've set random_state to 0."
   ]
  },
  {
   "cell_type": "code",
   "execution_count": 87,
   "metadata": {},
   "outputs": [],
   "source": [
    "from sklearn.model_selection import train_test_split\n",
    "\n",
    "x = df.iloc[:,:-1]\n",
    "\n",
    "y = df.iloc[:,-1]\n",
    "\n",
    "x_train, x_test, y_train, y_test = train_test_split(x, y, test_size=.7, random_state=0)\n"
   ]
  },
  {
   "attachments": {},
   "cell_type": "markdown",
   "metadata": {},
   "source": [
    "### Regression\n",
    "Now that our training and testing data is split we can start our modeling process. Because this problem has a binary target value, this is a classification problem. Below we see a first pass at a logistic regression model using all possible predictors. The results are not impressive but not hopeless. This may point to a possible issue in our choice (or lack thereof) of predictors."
   ]
  },
  {
   "cell_type": "code",
   "execution_count": 88,
   "metadata": {},
   "outputs": [
    {
     "name": "stdout",
     "output_type": "stream",
     "text": [
      "Accuracy of first Logistic Regression model: 0.797\n"
     ]
    }
   ],
   "source": [
    "from sklearn.linear_model import LogisticRegression\n",
    "from sklearn.metrics import accuracy_score\n",
    "import warnings\n",
    "warnings.filterwarnings('ignore')\n",
    "\n",
    "reg_mod = LogisticRegression().fit(x_train, y_train)\n",
    "\n",
    "y_pred = reg_mod.predict(x_test)\n",
    "\n",
    "print('Accuracy of first Logistic Regression model: ' + str(round(accuracy_score(y_pred, y_test),3)))"
   ]
  },
  {
   "attachments": {},
   "cell_type": "markdown",
   "metadata": {},
   "source": [
    "#### Feature Selection\n",
    "\n",
    "Sci-Kit Learn provides a handy tool for feature selection. The SequentialFeatureSelector will perform forward or backward selection and return the optimal features given a particular number of features to select."
   ]
  },
  {
   "cell_type": "code",
   "execution_count": 89,
   "metadata": {},
   "outputs": [
    {
     "name": "stdout",
     "output_type": "stream",
     "text": [
      "['Age']\n",
      "['Age' 'Gender']\n",
      "['Age' 'Gender' 'Protein2']\n",
      "['Age' 'Gender' 'Protein1' 'Protein2']\n",
      "['Age' 'Gender' 'Protein1' 'Protein2' 'Protein3']\n",
      "['Age' 'Gender' 'Protein1' 'Protein2' 'Protein3' 'Protein4']\n",
      "['Age' 'Gender' 'Protein1' 'Protein2' 'Protein3' 'Protein4' 'Tumour_Stage']\n",
      "['Age' 'Gender' 'Protein1' 'Protein2' 'Protein3' 'Protein4' 'Tumour_Stage'\n",
      " 'Histology']\n",
      "['Age' 'Gender' 'Protein1' 'Protein2' 'Protein3' 'Protein4' 'Tumour_Stage'\n",
      " 'Histology' 'HER2']\n",
      "['Age' 'Gender' 'Protein1' 'Protein2' 'Protein3' 'Protein4' 'Tumour_Stage'\n",
      " 'Histology' 'ER' 'HER2']\n",
      "['Age' 'Gender' 'Protein1' 'Protein2' 'Protein3' 'Protein4' 'Tumour_Stage'\n",
      " 'Histology' 'ER' 'PR' 'HER2']\n"
     ]
    }
   ],
   "source": [
    "from sklearn.feature_selection import SequentialFeatureSelector\n",
    "feature_names = np.array(x_train.columns)\n",
    "\n",
    "for i in range(1,12):\n",
    "    log_reg = LogisticRegression()\n",
    "    forward_selector = SequentialFeatureSelector(log_reg, n_features_to_select=i, direction='forward').fit(x_train,y_train)\n",
    "    features = feature_names[forward_selector.get_support()]\n",
    "    print(features)\n"
   ]
  },
  {
   "attachments": {},
   "cell_type": "markdown",
   "metadata": {},
   "source": [
    "Below I trained a series of models using each set of features. We can see that accuracy actually goes down beyond 3 features."
   ]
  },
  {
   "cell_type": "code",
   "execution_count": 91,
   "metadata": {},
   "outputs": [
    {
     "name": "stdout",
     "output_type": "stream",
     "text": [
      "With 1 features, accuracy is 0.8108108108108109\n",
      "With 2 features, accuracy is 0.8108108108108109\n",
      "With 3 features, accuracy is 0.8108108108108109\n",
      "With 4 features, accuracy is 0.8063063063063063\n",
      "With 5 features, accuracy is 0.8063063063063063\n",
      "With 6 features, accuracy is 0.8063063063063063\n",
      "With 7 features, accuracy is 0.8018018018018018\n",
      "With 8 features, accuracy is 0.8063063063063063\n",
      "With 9 features, accuracy is 0.8063063063063063\n",
      "With 10 features, accuracy is 0.8063063063063063\n",
      "With 11 features, accuracy is 0.8063063063063063\n"
     ]
    }
   ],
   "source": [
    "nfeatures = 1\n",
    "\n",
    "x = x_train[['Age']]\n",
    "model = LogisticRegression().fit(x, y_train)\n",
    "y_pred = model.predict(x_test[['Age']])\n",
    "score = accuracy_score(y_pred, y_test)\n",
    "print('With ' + str(nfeatures) + ' features, accuracy is '+ str(score))\n",
    "nfeatures += 1\n",
    "\n",
    "x = x_train[['Age', 'Gender']]\n",
    "model = LogisticRegression().fit(x, y_train)\n",
    "y_pred = model.predict(x_test[['Age', 'Gender']])\n",
    "score = accuracy_score(y_pred, y_test)\n",
    "print('With ' + str(nfeatures) + ' features, accuracy is '+ str(score))\n",
    "nfeatures += 1\n",
    "\n",
    "x = x_train[['Age', 'Gender', 'Protein2']]\n",
    "model = LogisticRegression().fit(x, y_train)\n",
    "y_pred = model.predict(x_test[['Age', 'Gender', 'Protein2']])\n",
    "score = accuracy_score(y_pred, y_test)\n",
    "print('With ' + str(nfeatures) + ' features, accuracy is '+ str(score))\n",
    "nfeatures += 1\n",
    "\n",
    "x = x_train[['Age', 'Gender', 'Protein1', 'Protein2']]\n",
    "model = LogisticRegression().fit(x, y_train)\n",
    "y_pred = model.predict(x_test[['Age', 'Gender', 'Protein1', 'Protein2']])\n",
    "score = accuracy_score(y_pred, y_test)\n",
    "print('With ' + str(nfeatures) + ' features, accuracy is '+ str(score))\n",
    "nfeatures += 1\n",
    "\n",
    "x = x_train[['Age', 'Gender', 'Protein1', 'Protein2', 'Protein3']]\n",
    "model = LogisticRegression().fit(x, y_train)\n",
    "y_pred = model.predict(x_test[['Age', 'Gender', 'Protein1', 'Protein2', 'Protein3']])\n",
    "score = accuracy_score(y_pred, y_test)\n",
    "print('With ' + str(nfeatures) + ' features, accuracy is '+ str(score))\n",
    "nfeatures += 1\n",
    "\n",
    "x = x_train[['Age', 'Gender', 'Protein1', 'Protein2', 'Protein3', 'Protein4']]\n",
    "model = LogisticRegression().fit(x, y_train)\n",
    "y_pred = model.predict(x_test[['Age', 'Gender', 'Protein1', 'Protein2', 'Protein3', 'Protein4']])\n",
    "score = accuracy_score(y_pred, y_test)\n",
    "print('With ' + str(nfeatures) + ' features, accuracy is '+ str(score))\n",
    "nfeatures += 1\n",
    "\n",
    "x = x_train[['Age', 'Gender', 'Protein1', 'Protein2', 'Protein3', 'Protein4', 'Tumour_Stage']]\n",
    "model = LogisticRegression().fit(x, y_train)\n",
    "y_pred = model.predict(x_test[['Age', 'Gender', 'Protein1', 'Protein2', 'Protein3', 'Protein4', 'Tumour_Stage']])\n",
    "score = accuracy_score(y_pred, y_test)\n",
    "print('With ' + str(nfeatures) + ' features, accuracy is '+ str(score))\n",
    "nfeatures += 1\n",
    "\n",
    "x = x_train[['Age', 'Gender', 'Protein1', 'Protein2', 'Protein3', 'Protein4', 'Tumour_Stage','Histology']]\n",
    "model = LogisticRegression().fit(x, y_train)\n",
    "y_pred = model.predict(x_test[['Age', 'Gender', 'Protein1', 'Protein2', 'Protein3', 'Protein4', 'Tumour_Stage','Histology']])\n",
    "score = accuracy_score(y_pred, y_test)\n",
    "print('With ' + str(nfeatures) + ' features, accuracy is '+ str(score))\n",
    "nfeatures += 1\n",
    "\n",
    "x = x_train[['Age', 'Gender', 'Protein1', 'Protein2', 'Protein3', 'Protein4', 'Tumour_Stage','Histology', 'HER2']]\n",
    "model = LogisticRegression().fit(x, y_train)\n",
    "y_pred = model.predict(x_test[['Age', 'Gender', 'Protein1', 'Protein2', 'Protein3', 'Protein4', 'Tumour_Stage','Histology', 'HER2']])\n",
    "score = accuracy_score(y_pred, y_test)\n",
    "print('With ' + str(nfeatures) + ' features, accuracy is '+ str(score))\n",
    "nfeatures += 1\n",
    "\n",
    "x = x_train[['Age', 'Gender', 'Protein1', 'Protein2', 'Protein3', 'Protein4', 'Tumour_Stage','Histology', 'ER', 'HER2']]\n",
    "model = LogisticRegression().fit(x, y_train)\n",
    "y_pred = model.predict(x_test[['Age', 'Gender', 'Protein1', 'Protein2', 'Protein3', 'Protein4', 'Tumour_Stage','Histology', 'ER', 'HER2']])\n",
    "score = accuracy_score(y_pred, y_test)\n",
    "print('With ' + str(nfeatures) + ' features, accuracy is '+ str(score))\n",
    "nfeatures += 1\n",
    "\n",
    "x = x_train[['Age', 'Gender', 'Protein1', 'Protein2', 'Protein3', 'Protein4', 'Tumour_Stage','Histology', 'ER', 'PR', 'HER2']]\n",
    "model = LogisticRegression().fit(x, y_train)\n",
    "y_pred = model.predict(x_test[['Age', 'Gender', 'Protein1', 'Protein2', 'Protein3', 'Protein4', 'Tumour_Stage','Histology', 'ER', 'PR', 'HER2']])\n",
    "score = accuracy_score(y_pred, y_test)\n",
    "print('With ' + str(nfeatures) + ' features, accuracy is '+ str(score))\n",
    "nfeatures += 1"
   ]
  },
  {
   "attachments": {},
   "cell_type": "markdown",
   "metadata": {},
   "source": [
    "Let's see what set of features backward selection recommends. We'll assume that 3 features is the sweet spot. We see below that backward selection ends up agreeing that Age, Gender, and Protein2 are our best predictors."
   ]
  },
  {
   "cell_type": "code",
   "execution_count": 92,
   "metadata": {},
   "outputs": [
    {
     "name": "stdout",
     "output_type": "stream",
     "text": [
      "['Age' 'Gender' 'Protein2']\n"
     ]
    }
   ],
   "source": [
    "backward_selector = SequentialFeatureSelector(log_reg, n_features_to_select=3, direction='forward').fit(x_train,y_train)\n",
    "features = feature_names[backward_selector.get_support()]\n",
    "print(features)"
   ]
  },
  {
   "attachments": {},
   "cell_type": "markdown",
   "metadata": {},
   "source": [
    "So, our final logistic regression model here uses 3 features, 'Age', 'Gender', and 'Protein2'. As we can see below, it has an accuracy of $81.1\\%$ Which is better than where we started but still not great."
   ]
  },
  {
   "cell_type": "code",
   "execution_count": 96,
   "metadata": {},
   "outputs": [
    {
     "name": "stdout",
     "output_type": "stream",
     "text": [
      "Accuracy of final logistic regression model is: 0.811\n"
     ]
    }
   ],
   "source": [
    "x = x_train[['Age', 'Gender', 'Protein2']]\n",
    "log_mod = LogisticRegression().fit(x, y_train)\n",
    "y_pred = log_mod.predict(x_test[['Age', 'Gender', 'Protein2']])\n",
    "score = accuracy_score(y_pred, y_test)\n",
    "print('Accuracy of final logistic regression model is: ' + str(round(score,3)))"
   ]
  },
  {
   "cell_type": "code",
   "execution_count": null,
   "metadata": {},
   "outputs": [],
   "source": []
  }
 ],
 "metadata": {
  "kernelspec": {
   "display_name": "Python 3",
   "language": "python",
   "name": "python3"
  },
  "language_info": {
   "codemirror_mode": {
    "name": "ipython",
    "version": 3
   },
   "file_extension": ".py",
   "mimetype": "text/x-python",
   "name": "python",
   "nbconvert_exporter": "python",
   "pygments_lexer": "ipython3",
   "version": "3.10.6"
  },
  "orig_nbformat": 4
 },
 "nbformat": 4,
 "nbformat_minor": 2
}
